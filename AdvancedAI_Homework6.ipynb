{
  "nbformat": 4,
  "nbformat_minor": 0,
  "metadata": {
    "colab": {
      "provenance": [],
      "authorship_tag": "ABX9TyN8EJaXumfK6U5fLYhCJP1b",
      "include_colab_link": true
    },
    "kernelspec": {
      "name": "python3",
      "display_name": "Python 3"
    },
    "language_info": {
      "name": "python"
    }
  },
  "cells": [
    {
      "cell_type": "markdown",
      "metadata": {
        "id": "view-in-github",
        "colab_type": "text"
      },
      "source": [
        "<a href=\"https://colab.research.google.com/github/dmb0018/cs6678_Homework6/blob/main/AdvancedAI_Homework6.ipynb\" target=\"_parent\"><img src=\"https://colab.research.google.com/assets/colab-badge.svg\" alt=\"Open In Colab\"/></a>"
      ]
    },
    {
      "cell_type": "code",
      "execution_count": 1,
      "metadata": {
        "colab": {
          "base_uri": "https://localhost:8080/"
        },
        "id": "A7wjbMcuYNrd",
        "outputId": "908aa479-8b72-4daa-ba86-a0e01b995c39"
      },
      "outputs": [
        {
          "output_type": "stream",
          "name": "stdout",
          "text": [
            "Mounted at /content/drive\n"
          ]
        }
      ],
      "source": [
        "from google.colab import drive\n",
        "drive.mount('/content/drive')"
      ]
    },
    {
      "cell_type": "code",
      "source": [
        "import pandas as pd\n",
        "\n",
        "#Create path for shakespear text file\n",
        "path = \"/content/drive/My Drive/Shakespeare.txt\"\n",
        "\n",
        "#Open Shakespear text file and store it in variable\n",
        "with open(path,\"r\") as df:\n",
        "  contentAsIs = df.read()"
      ],
      "metadata": {
        "id": "IHQwUC0oY1Bz"
      },
      "execution_count": 2,
      "outputs": []
    },
    {
      "cell_type": "code",
      "source": [
        "#Import string to remove punctuation\n",
        "import string\n",
        "\n",
        "#Remove Punctuation\n",
        "removePunctuation = contentAsIs.translate(str.maketrans('','',string.punctuation))\n"
      ],
      "metadata": {
        "id": "tK9VJjmnRJYu"
      },
      "execution_count": 3,
      "outputs": []
    },
    {
      "cell_type": "code",
      "source": [
        "# Import ntlk to provide dictionary with English words\n",
        "import nltk\n",
        "\n",
        "# Load two different dictionaries - Words seemed to be a more of an English only dictionary\n",
        "nltk.download('words')\n",
        "nltk.download('brown')\n",
        "\n",
        "# Use words dictionary\n",
        "words = set(nltk.corpus.words.words())\n",
        "removeNonEnglishWords_words = \" \".join(w for w in nltk.wordpunct_tokenize(removePunctuation) \\\n",
        "         if w.lower() in words or not w.isalpha())\n",
        "number_of_words = len(removeNonEnglishWords_words.split())\n",
        "print(\"The number of words in the text file using the ''words'' dictionary:\", number_of_words)\n",
        "\n",
        "# Use \"brown\" dictionary to determine number of words\n",
        "words2 = set(nltk.corpus.brown.words())\n",
        "removeNonEnglishWords_brown = \" \".join(w for w in nltk.wordpunct_tokenize(removePunctuation) \\\n",
        "         if w.lower() in words2 or not w.isalpha())\n",
        "\n",
        "number_of_words_brown = len(removeNonEnglishWords_brown.split())\n",
        "print(\"The number of words in the text file using the ''brown'' dictionary:\",number_of_words_brown)\n"
      ],
      "metadata": {
        "colab": {
          "base_uri": "https://localhost:8080/"
        },
        "id": "5exibFwLWqSu",
        "outputId": "be55ec2e-ba7d-479c-cb93-0cede81681db"
      },
      "execution_count": 7,
      "outputs": [
        {
          "output_type": "stream",
          "name": "stderr",
          "text": [
            "[nltk_data] Downloading package words to /root/nltk_data...\n",
            "[nltk_data]   Package words is already up-to-date!\n",
            "[nltk_data] Downloading package brown to /root/nltk_data...\n",
            "[nltk_data]   Package brown is already up-to-date!\n"
          ]
        },
        {
          "output_type": "stream",
          "name": "stdout",
          "text": [
            "The number of words in the text file using the ''words'' dictionary: 15850\n",
            "The number of words in the text file using the ''brown'' dictionary: 16685\n"
          ]
        }
      ]
    },
    {
      "cell_type": "code",
      "source": [
        "from collections import Counter\n",
        "\n",
        "#Split the remaining text into separate words (\"words\" dictionary)\n",
        "splitToFindCommonWords_words = removeNonEnglishWords_words.split()\n",
        "\n",
        "# Count the words\n",
        "Counters_found = Counter(splitToFindCommonWords_words)\n",
        "\n",
        "#Determine and print most frequent words\n",
        "most_frequent = Counters_found.most_common(20)\n",
        "print(\"Most frequent words using ''words'' dictionary:\", most_frequent)\n",
        "\n",
        "\n",
        "# Split the remaining text into separate words (\"brown\" dictionary)\n",
        "splitToFindCommonWords_brown = removeNonEnglishWords_brown.split()\n",
        "\n",
        "# Count the words\n",
        "Counters_found_brown = Counter(splitToFindCommonWords_brown)\n",
        "\n",
        "#Determine and print most frequent words using \"brown\" dictionary\n",
        "most_frequent_brown = Counters_found_brown.most_common(20)\n",
        "print(\"Most frequent words using ''brown'' dictionary:\",most_frequent_brown)"
      ],
      "metadata": {
        "colab": {
          "base_uri": "https://localhost:8080/"
        },
        "id": "Z-uMDjKjceZj",
        "outputId": "d1587d56-fb67-4685-c59f-01d99653428a"
      },
      "execution_count": 8,
      "outputs": [
        {
          "output_type": "stream",
          "name": "stdout",
          "text": [
            "Most frequent words using ''words'' dictionary: [('my', 361), ('the', 355), ('of', 349), ('I', 344), ('to', 330), ('in', 287), ('thy', 258), ('and', 248), ('And', 242), ('that', 239), ('thou', 209), ('with', 163), ('me', 162), ('thee', 161), ('is', 158), ('not', 157), ('love', 156), ('a', 146), ('be', 133), ('all', 107)]\n",
            "Most frequent words using ''brown'' dictionary: [('my', 361), ('the', 355), ('of', 349), ('I', 344), ('to', 330), ('in', 287), ('thy', 258), ('and', 248), ('And', 242), ('that', 239), ('thou', 209), ('with', 163), ('me', 162), ('thee', 161), ('is', 158), ('not', 157), ('love', 156), ('a', 146), ('be', 133), ('all', 107)]\n"
          ]
        }
      ]
    },
    {
      "cell_type": "code",
      "source": [
        "\n",
        "\n"
      ],
      "metadata": {
        "id": "hWp3weYxda9O"
      },
      "execution_count": null,
      "outputs": []
    }
  ]
}